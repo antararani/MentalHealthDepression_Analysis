{
 "cells": [
  {
   "cell_type": "markdown",
   "id": "f4a72961-9068-4560-8d95-ee20d6bfbd0c",
   "metadata": {},
   "source": [
    "# EDA ON MENTAL HEALTH DEPRESSION DATA\n",
    "\n",
    "## This notebook aims to look at some of the following problem statements: \n",
    "\r",
    "1. How does the duration spent indoors (`Days_Indoors`) correlate with growing stress (`Growing_Stress`) and quarantine frustrations (`Quarantine_Frustrations`)?\r\n",
    "\r\n",
    "2. Is there a significant difference in coping strategies (`Coping_Struggles`) between age groups (`Age`)?\r\n",
    "\r\n",
    "3. Does occupation (`Occupation`) influence the level of stress (`Growing_Stress`) and coping mechanisms (`Coping_Struggles`) during the quarantine?\r\n",
    "\r\n",
    "4. How do mood swings (`Mood_Swings`) and coping struggles (`Coping_Struggles`) differ between males and females (`Gender`)?\r\n",
    "\r\n",
    "5. Are people who report a loss of interest in work (`Work_Interest`) more likely to experience mood swings (`Mood_Swings`) or social weakness (`Social_Weakness`)?\r\n",
    "al_Weakness)?"
   ]
  },
  {
   "cell_type": "code",
   "execution_count": 5,
   "id": "3a0bce66-2c50-454a-8d52-905f2dd74b7b",
   "metadata": {},
   "outputs": [
    {
     "data": {
      "text/html": [
       "<div>\n",
       "<style scoped>\n",
       "    .dataframe tbody tr th:only-of-type {\n",
       "        vertical-align: middle;\n",
       "    }\n",
       "\n",
       "    .dataframe tbody tr th {\n",
       "        vertical-align: top;\n",
       "    }\n",
       "\n",
       "    .dataframe thead th {\n",
       "        text-align: right;\n",
       "    }\n",
       "</style>\n",
       "<table border=\"1\" class=\"dataframe\">\n",
       "  <thead>\n",
       "    <tr style=\"text-align: right;\">\n",
       "      <th></th>\n",
       "      <th>Age</th>\n",
       "      <th>Gender</th>\n",
       "      <th>Occupation</th>\n",
       "      <th>Days_Indoors</th>\n",
       "      <th>Growing_Stress</th>\n",
       "      <th>Quarantine_Frustrations</th>\n",
       "      <th>Changes_Habits</th>\n",
       "      <th>Mental_Health_History</th>\n",
       "      <th>Weight_Change</th>\n",
       "      <th>Mood_Swings</th>\n",
       "      <th>Coping_Struggles</th>\n",
       "      <th>Work_Interest</th>\n",
       "      <th>Social_Weakness</th>\n",
       "    </tr>\n",
       "  </thead>\n",
       "  <tbody>\n",
       "    <tr>\n",
       "      <th>0</th>\n",
       "      <td>20-25</td>\n",
       "      <td>Female</td>\n",
       "      <td>Corporate</td>\n",
       "      <td>1-14 days</td>\n",
       "      <td>Yes</td>\n",
       "      <td>Yes</td>\n",
       "      <td>No</td>\n",
       "      <td>Yes</td>\n",
       "      <td>Yes</td>\n",
       "      <td>Medium</td>\n",
       "      <td>No</td>\n",
       "      <td>No</td>\n",
       "      <td>Yes</td>\n",
       "    </tr>\n",
       "    <tr>\n",
       "      <th>1</th>\n",
       "      <td>30-Above</td>\n",
       "      <td>Male</td>\n",
       "      <td>Others</td>\n",
       "      <td>31-60 days</td>\n",
       "      <td>Yes</td>\n",
       "      <td>Yes</td>\n",
       "      <td>Maybe</td>\n",
       "      <td>No</td>\n",
       "      <td>No</td>\n",
       "      <td>High</td>\n",
       "      <td>No</td>\n",
       "      <td>No</td>\n",
       "      <td>Yes</td>\n",
       "    </tr>\n",
       "    <tr>\n",
       "      <th>2</th>\n",
       "      <td>30-Above</td>\n",
       "      <td>Female</td>\n",
       "      <td>Student</td>\n",
       "      <td>Go out Every day</td>\n",
       "      <td>No</td>\n",
       "      <td>No</td>\n",
       "      <td>Yes</td>\n",
       "      <td>No</td>\n",
       "      <td>No</td>\n",
       "      <td>Medium</td>\n",
       "      <td>Yes</td>\n",
       "      <td>Maybe</td>\n",
       "      <td>No</td>\n",
       "    </tr>\n",
       "    <tr>\n",
       "      <th>3</th>\n",
       "      <td>25-30</td>\n",
       "      <td>Male</td>\n",
       "      <td>Others</td>\n",
       "      <td>1-14 days</td>\n",
       "      <td>Yes</td>\n",
       "      <td>No</td>\n",
       "      <td>Maybe</td>\n",
       "      <td>No</td>\n",
       "      <td>Maybe</td>\n",
       "      <td>Medium</td>\n",
       "      <td>No</td>\n",
       "      <td>Maybe</td>\n",
       "      <td>Yes</td>\n",
       "    </tr>\n",
       "    <tr>\n",
       "      <th>4</th>\n",
       "      <td>16-20</td>\n",
       "      <td>Female</td>\n",
       "      <td>Student</td>\n",
       "      <td>More than 2 months</td>\n",
       "      <td>Yes</td>\n",
       "      <td>Yes</td>\n",
       "      <td>Yes</td>\n",
       "      <td>No</td>\n",
       "      <td>Yes</td>\n",
       "      <td>Medium</td>\n",
       "      <td>Yes</td>\n",
       "      <td>Maybe</td>\n",
       "      <td>No</td>\n",
       "    </tr>\n",
       "  </tbody>\n",
       "</table>\n",
       "</div>"
      ],
      "text/plain": [
       "        Age  Gender Occupation        Days_Indoors Growing_Stress  \\\n",
       "0     20-25  Female  Corporate           1-14 days            Yes   \n",
       "1  30-Above    Male     Others          31-60 days            Yes   \n",
       "2  30-Above  Female    Student    Go out Every day             No   \n",
       "3     25-30    Male     Others           1-14 days            Yes   \n",
       "4     16-20  Female    Student  More than 2 months            Yes   \n",
       "\n",
       "  Quarantine_Frustrations Changes_Habits Mental_Health_History Weight_Change  \\\n",
       "0                     Yes             No                   Yes           Yes   \n",
       "1                     Yes          Maybe                    No            No   \n",
       "2                      No            Yes                    No            No   \n",
       "3                      No          Maybe                    No         Maybe   \n",
       "4                     Yes            Yes                    No           Yes   \n",
       "\n",
       "  Mood_Swings Coping_Struggles Work_Interest Social_Weakness  \n",
       "0      Medium               No            No             Yes  \n",
       "1        High               No            No             Yes  \n",
       "2      Medium              Yes         Maybe              No  \n",
       "3      Medium               No         Maybe             Yes  \n",
       "4      Medium              Yes         Maybe              No  "
      ]
     },
     "execution_count": 5,
     "metadata": {},
     "output_type": "execute_result"
    }
   ],
   "source": [
    "# imports \n",
    "import pandas as pd\n",
    "import numpy as np\n",
    "import matplotlib.pyplot as plt\n",
    "# import seaborn as sns\n",
    "# read in data \n",
    "data = pd.read_csv(\"mental_health_finaldata_1.csv\")\n",
    "data.head()"
   ]
  },
  {
   "cell_type": "code",
   "execution_count": 6,
   "id": "b72d3302-907b-4743-a635-37e94e0be6a3",
   "metadata": {},
   "outputs": [
    {
     "data": {
      "text/plain": [
       "(824, 13)"
      ]
     },
     "execution_count": 6,
     "metadata": {},
     "output_type": "execute_result"
    }
   ],
   "source": [
    "data.shape"
   ]
  },
  {
   "cell_type": "code",
   "execution_count": 7,
   "id": "67ccc84b-b1f2-4265-b3b0-47423eaa3efc",
   "metadata": {},
   "outputs": [
    {
     "name": "stdout",
     "output_type": "stream",
     "text": [
      "<class 'pandas.core.frame.DataFrame'>\n",
      "RangeIndex: 824 entries, 0 to 823\n",
      "Data columns (total 13 columns):\n",
      " #   Column                   Non-Null Count  Dtype \n",
      "---  ------                   --------------  ----- \n",
      " 0   Age                      824 non-null    object\n",
      " 1   Gender                   824 non-null    object\n",
      " 2   Occupation               824 non-null    object\n",
      " 3   Days_Indoors             824 non-null    object\n",
      " 4   Growing_Stress           824 non-null    object\n",
      " 5   Quarantine_Frustrations  824 non-null    object\n",
      " 6   Changes_Habits           824 non-null    object\n",
      " 7   Mental_Health_History    824 non-null    object\n",
      " 8   Weight_Change            824 non-null    object\n",
      " 9   Mood_Swings              824 non-null    object\n",
      " 10  Coping_Struggles         824 non-null    object\n",
      " 11  Work_Interest            824 non-null    object\n",
      " 12  Social_Weakness          824 non-null    object\n",
      "dtypes: object(13)\n",
      "memory usage: 83.8+ KB\n"
     ]
    }
   ],
   "source": [
    "data.info()"
   ]
  },
  {
   "cell_type": "code",
   "execution_count": 10,
   "id": "7e6ef58c-f242-4320-8403-dfb3e5a4f837",
   "metadata": {},
   "outputs": [
    {
     "data": {
      "text/plain": [
       "Age                        0\n",
       "Gender                     0\n",
       "Occupation                 0\n",
       "Days_Indoors               0\n",
       "Growing_Stress             0\n",
       "Quarantine_Frustrations    0\n",
       "Changes_Habits             0\n",
       "Mental_Health_History      0\n",
       "Weight_Change              0\n",
       "Mood_Swings                0\n",
       "Coping_Struggles           0\n",
       "Work_Interest              0\n",
       "Social_Weakness            0\n",
       "dtype: int64"
      ]
     },
     "execution_count": 10,
     "metadata": {},
     "output_type": "execute_result"
    }
   ],
   "source": [
    "data.isnull().sum()"
   ]
  },
  {
   "cell_type": "code",
   "execution_count": 12,
   "id": "ca892924-f93b-46c6-b22c-4023909c51c9",
   "metadata": {},
   "outputs": [],
   "source": [
    "# data[\"Age\"] = data[\"Age\"].astype(int)  won't change because its an object with hypens"
   ]
  },
  {
   "cell_type": "code",
   "execution_count": null,
   "id": "c6afb5b3-21f7-4cab-b65e-47f63bb24936",
   "metadata": {},
   "outputs": [],
   "source": []
  }
 ],
 "metadata": {
  "kernelspec": {
   "display_name": "Python 3 (ipykernel)",
   "language": "python",
   "name": "python3"
  },
  "language_info": {
   "codemirror_mode": {
    "name": "ipython",
    "version": 3
   },
   "file_extension": ".py",
   "mimetype": "text/x-python",
   "name": "python",
   "nbconvert_exporter": "python",
   "pygments_lexer": "ipython3",
   "version": "3.8.10"
  }
 },
 "nbformat": 4,
 "nbformat_minor": 5
}
